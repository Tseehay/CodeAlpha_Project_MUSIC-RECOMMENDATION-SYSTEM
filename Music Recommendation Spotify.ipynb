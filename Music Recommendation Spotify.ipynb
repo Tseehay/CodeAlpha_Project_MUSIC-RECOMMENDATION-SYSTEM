{
 "cells": [
  {
   "cell_type": "code",
   "execution_count": 24,
   "id": "25bec3d9",
   "metadata": {},
   "outputs": [],
   "source": [
    "# Import necessary libraries\n",
    "import spotipy\n",
    "from spotipy.oauth2 import SpotifyClientCredentials\n",
    "\n",
    "import pandas as pd\n",
    "from sklearn.model_selection import train_test_split\n",
    "from sklearn.ensemble import RandomForestClassifier\n",
    "from sklearn.metrics import accuracy_score\n",
    "\n",
    "from datetime import datetime, timedelta\n",
    "import random"
   ]
  },
  {
   "cell_type": "code",
   "execution_count": 4,
   "id": "152a1256",
   "metadata": {},
   "outputs": [],
   "source": [
    "# Set up Spotify API credentials\n",
    "client_id = \"ddcb1546db454508af5cc833be559952\"\n",
    "client_secret = \"adaeeaf215124e3a8c46373486f0b84f\"\n",
    "client_credentials_manager = SpotifyClientCredentials(client_id, client_secret)\n",
    "sp = spotipy.Spotify(client_credentials_manager=client_credentials_manager)"
   ]
  },
  {
   "cell_type": "code",
   "execution_count": 5,
   "id": "19c6c0eb",
   "metadata": {},
   "outputs": [],
   "source": [
    "def recommend_music(seed_track):\n",
    "    # Get the track ID of the seed track\n",
    "    results = sp.search(q=seed_track, type='track', limit=1)\n",
    "    seed_track_id = results['tracks']['items'][0]['id']\n",
    "    \n",
    "    # Get recommended tracks based on the seed track\n",
    "    recommendations = sp.recommendations(seed_tracks=[seed_track_id])\n",
    "    \n",
    "    # Extract the recommended track names\n",
    "    recommended_tracks = [track['name'] for track in recommendations['tracks']]\n",
    "    \n",
    "    return recommended_tracks"
   ]
  },
  {
   "cell_type": "code",
   "execution_count": 6,
   "id": "97bd8028",
   "metadata": {},
   "outputs": [
    {
     "name": "stdout",
     "output_type": "stream",
     "text": [
      "Recommended tracks:\n",
      "Civil War\n",
      "Dance the Night Away - 2015 Remaster\n",
      "Misty Mountain Hop - Remaster\n",
      "Better Man\n",
      "Poison\n",
      "Can't Stop\n",
      "November Rain\n",
      "Just Breathe\n",
      "Dancing With Myself\n",
      "Born To Be Wild\n",
      "T.N.T.\n",
      "I Want To Break Free - Single Remix\n",
      "Knockin' On Heaven's Door\n",
      "Every Breath You Take\n",
      "The Ocean - Remaster\n",
      "Estranged\n",
      "Brain Damage\n",
      "We're Not Gonna Take It\n",
      "Any Way You Want It\n",
      "Purple Rain\n"
     ]
    }
   ],
   "source": [
    "\n",
    "# Example usage\n",
    "seed_track = \"Stairway to Heaven\"  # Replace with your desired seed track\n",
    "recommended_tracks = recommend_music(seed_track)\n",
    "print(\"Recommended tracks:\")\n",
    "for track in recommended_tracks:\n",
    "    print(track)"
   ]
  },
  {
   "cell_type": "code",
   "execution_count": 8,
   "id": "cca3b7e2",
   "metadata": {},
   "outputs": [
    {
     "name": "stdout",
     "output_type": "stream",
     "text": [
      "Recommended tracks:\n",
      "Proud Mary\n",
      "Friday I'm In Love\n",
      "Touch Me\n",
      "Jack & Diane\n",
      "Alone\n",
      "Who Can It Be Now?\n",
      "Good Old-Fashioned Lover Boy - Remastered 2011\n",
      "Get It On\n",
      "By the Way\n",
      "Don't Stop - 2004 Remaster\n",
      "Maneater\n",
      "I Want To Break Free - Single Remix\n",
      "Shout\n",
      "You Really Got Me - 2015 Remaster\n",
      "Dani California\n",
      "Love Her Madly\n",
      "Mama, I'm Coming Home\n",
      "Lay All Your Love On Me\n",
      "Don't Stop 'Til You Get Enough\n",
      "I Want You to Want Me\n"
     ]
    }
   ],
   "source": [
    "if __name__ == \"__main__\":\n",
    "    seed_track = \"Bohemian Rhapsody\" # Replace with your desired seed track\n",
    "    recommended_tracks = recommend_music(seed_track)\n",
    "    print(\"Recommended tracks:\")\n",
    "    for track in recommended_tracks:\n",
    "        print(track)"
   ]
  },
  {
   "cell_type": "code",
   "execution_count": 21,
   "id": "c1477756",
   "metadata": {},
   "outputs": [],
   "source": [
    "# Load the dataset\n",
    "data = pd.read_csv('data.csv')\n",
    "\n",
    "# Split data into features and target variable\n",
    "X = data.drop(columns=['id', 'name', 'repeated_plays'])  # Features (excluding non-numeric columns and target)\n",
    "y = data['repeated_plays']  # Target variable\n",
    "\n",
    "# Split data into training set and test set\n",
    "X_train, X_test, y_train, y_test = train_test_split(X, y, test_size=0.2, random_state=42)\n",
    "\n",
    "# Create a RandomForestClassifier\n",
    "clf = RandomForestClassifier(n_estimators=100)\n",
    "\n",
    "# Train the model using the training sets\n",
    "clf.fit(X_train, y_train)\n",
    "\n",
    "# Predict the response for test dataset\n",
    "y_pred = clf.predict(X_test)"
   ]
  },
  {
   "cell_type": "code",
   "execution_count": 22,
   "id": "d7b10504",
   "metadata": {},
   "outputs": [
    {
     "name": "stdout",
     "output_type": "stream",
     "text": [
      "Accuracy: 0.6\n"
     ]
    }
   ],
   "source": [
    "# Model Accuracy\n",
    "print(\"Accuracy:\", accuracy_score(y_test, y_pred))"
   ]
  },
  {
   "cell_type": "code",
   "execution_count": 26,
   "id": "c1fe616c",
   "metadata": {},
   "outputs": [],
   "source": [
    "# Generate 100 timestamps within a timeframe\n",
    "start_date = datetime(2024, 1, 1)\n",
    "end_date = datetime(2024, 1, 31)\n",
    "\n",
    "timestamps = [start_date + timedelta(days=random.randint(0, 30),\n",
    "                                     hours=random.randint(0, 23),\n",
    "                                     minutes=random.randint(0, 59),\n",
    "                                     seconds=random.randint(0, 59))\n",
    "              for _ in range(100)]\n",
    "\n",
    "# Create a DataFrame with timestamps\n",
    "df_timestamps = pd.DataFrame({'timestamp': timestamps})"
   ]
  },
  {
   "cell_type": "code",
   "execution_count": 27,
   "id": "43ddd96c",
   "metadata": {},
   "outputs": [
    {
     "name": "stdout",
     "output_type": "stream",
     "text": [
      "             timestamp\n",
      "0  2024-01-01 23:32:57\n",
      "1  2024-01-04 07:21:45\n",
      "2  2024-01-12 10:20:15\n",
      "3  2024-01-16 14:56:59\n",
      "4  2024-01-15 01:25:28\n",
      "..                 ...\n",
      "95 2024-01-15 12:36:43\n",
      "96 2024-01-03 10:22:43\n",
      "97 2024-01-05 22:34:39\n",
      "98 2024-01-27 13:58:31\n",
      "99 2024-01-04 22:57:40\n",
      "\n",
      "[100 rows x 1 columns]\n"
     ]
    }
   ],
   "source": [
    "# Display the DataFrame\n",
    "print(df_timestamps)"
   ]
  },
  {
   "cell_type": "code",
   "execution_count": null,
   "id": "f2f7f71b",
   "metadata": {},
   "outputs": [],
   "source": []
  }
 ],
 "metadata": {
  "kernelspec": {
   "display_name": "Python 3 (ipykernel)",
   "language": "python",
   "name": "python3"
  },
  "language_info": {
   "codemirror_mode": {
    "name": "ipython",
    "version": 3
   },
   "file_extension": ".py",
   "mimetype": "text/x-python",
   "name": "python",
   "nbconvert_exporter": "python",
   "pygments_lexer": "ipython3",
   "version": "3.11.5"
  }
 },
 "nbformat": 4,
 "nbformat_minor": 5
}
